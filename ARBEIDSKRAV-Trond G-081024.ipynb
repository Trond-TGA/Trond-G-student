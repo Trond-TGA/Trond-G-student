{
 "cells": [
  {
   "cell_type": "markdown",
   "id": "1c777ce8-054a-4286-b1b1-d7a65af5df00",
   "metadata": {},
   "source": [
    "***Trond Gabrielsen - ARBEIDSKRAV 1 20241108***"
   ]
  },
  {
   "cell_type": "raw",
   "id": "0ab0c590-25fc-4a16-bd3d-09ea948a3a6e",
   "metadata": {},
   "source": [
    "# -*- coding: utf-8 -*-\n",
    "\"\"\"\n",
    "Spyder Trond Gabrielsen\n",
    "Arbeidskrav innleveringsfrist 08.11.2024\n",
    "\"\"\""
   ]
  },
  {
   "cell_type": "markdown",
   "id": "8637ac8f-f407-4599-972e-eac447cfc771",
   "metadata": {},
   "source": [
    "***Her kommer konstanter og variabler for utregingen***"
   ]
  },
  {
   "cell_type": "code",
   "execution_count": 3,
   "id": "6dd94dcb-db28-4550-8da1-8a144c1e8c00",
   "metadata": {},
   "outputs": [],
   "source": [
    "import datetime\n",
    "\"\"\"Referansetid\"\"\"\n",
    "ETTAAR = 365"
   ]
  },
  {
   "cell_type": "code",
   "execution_count": 4,
   "id": "8c736fbd-9f34-48e2-aea9-d9f0109cb4e9",
   "metadata": {},
   "outputs": [
    {
     "name": "stdin",
     "output_type": "stream",
     "text": [
      "Hvor mange hele kilometer kjører du i året?:  20000\n"
     ]
    }
   ],
   "source": [
    "\"\"\" Antall kilometer per år\"\"\"\n",
    "ANTALL_kjort_km = int(input(\"Hvor mange hele kilometer kjører du i året?: \"))\n",
    "\n",
    "\"\"\"Årlige kostnader\"\"\"\n",
    "Elbil_FORSIKR = 5000\n",
    "Bensin_FORSIKR = 7500\n",
    "\n",
    "\"\"\" Variable kostnader\"\"\"\n",
    "Strom_pris_KW = 2.00\n",
    "LADING_lyn_stasjon_kilowatt_kroner = 5.99\n",
    "AvGIFT_bom_elbil = 0.1\n",
    "AvGIFT_bom_bensin = 0.3\n",
    "\n",
    "\"\"\" Drivstofforbruk er mer lik 0.21\"\"\"\n",
    "KILOWATTIMER_km = 0.20\n",
    "\"\"\"Opgaven sier her 1.0 men er 1.4\"\"\"\n",
    "KRONER_bensin_km = 1.0\n",
    "\n",
    "TRAFIKK_forsikr_dag = 8.38\n"
   ]
  },
  {
   "cell_type": "markdown",
   "id": "ffe88c9b-d6d3-47a2-bbed-477b0bc4a4c3",
   "metadata": {},
   "source": [
    "***Beregninger kommmer her***"
   ]
  },
  {
   "cell_type": "code",
   "execution_count": 6,
   "id": "cfffb4bc-6b1a-4364-974a-d37ff519c97e",
   "metadata": {},
   "outputs": [],
   "source": [
    "\n",
    "ELBIL_TOTAL_KOST = (ANTALL_kjort_km*KILOWATTIMER_km*Strom_pris_KW)+(TRAFIKK_forsikr_dag*ETTAAR)+(ANTALL_kjort_km*AvGIFT_bom_elbil)+Elbil_FORSIKR\n",
    "ELBIL_TOTAL_KOST_lyn = (ANTALL_kjort_km*KILOWATTIMER_km*LADING_lyn_stasjon_kilowatt_kroner)+(TRAFIKK_forsikr_dag*ETTAAR)+(ANTALL_kjort_km*AvGIFT_bom_elbil)+Elbil_FORSIKR\n",
    "BENSIN_TOTAL_KOST = (ANTALL_kjort_km*KRONER_bensin_km)+(TRAFIKK_forsikr_dag*ETTAAR)+(ANTALL_kjort_km*AvGIFT_bom_bensin)+Bensin_FORSIKR\n",
    "\n"
   ]
  },
  {
   "cell_type": "markdown",
   "id": "4b9001ce-5604-46b0-a8f6-da9403c0860d",
   "metadata": {},
   "source": [
    "***De årlige kostnadene for bruk av bensinbil og elbil. Utregnet ved hjemme- og lynlading.*** \n",
    "***Like kostnader ikke tatt med i beregningene***"
   ]
  },
  {
   "cell_type": "code",
   "execution_count": 8,
   "id": "8eb906bb-6dcb-4f50-b9d4-6487c8481901",
   "metadata": {},
   "outputs": [
    {
     "name": "stdout",
     "output_type": "stream",
     "text": [
      "Current date and time: 2024-11-03 12:18:51.492070\n",
      "Den totale årlige kostnaden på en elbil i kroner:  18058.70 .-\n",
      "Den totale årlige kostnaden på en elbil bare på lynlader: 34018.70 .-\n",
      "Den totale årlige kostnaden på en bensinbil kroner: 36558.70 .-\n"
     ]
    }
   ],
   "source": [
    "\"\"\"Ut på skjermen\"\"\"\n",
    "now = datetime.datetime.now()\n",
    "\n",
    "print(\"Current date and time:\", now)\n",
    "print(\"Den totale årlige kostnaden på en elbil i kroner:\",\" %.2f\" % ELBIL_TOTAL_KOST ,\".-\")\n",
    "print(\"Den totale årlige kostnaden på en elbil bare på lynlader:\",\"%.2f\" % ELBIL_TOTAL_KOST_lyn,\".-\")\n",
    "print(\"Den totale årlige kostnaden på en bensinbil kroner:\",\"%.2f\" % BENSIN_TOTAL_KOST,\".-\")"
   ]
  },
  {
   "cell_type": "code",
   "execution_count": null,
   "id": "93de4870-1966-4e3e-8e31-b5a540e33db8",
   "metadata": {},
   "outputs": [],
   "source": []
  }
 ],
 "metadata": {
  "kernelspec": {
   "display_name": "anaconda-2024.02-py310",
   "language": "python",
   "name": "conda-env-anaconda-2024.02-py310-py"
  },
  "language_info": {
   "codemirror_mode": {
    "name": "ipython",
    "version": 3
   },
   "file_extension": ".py",
   "mimetype": "text/x-python",
   "name": "python",
   "nbconvert_exporter": "python",
   "pygments_lexer": "ipython3",
   "version": "3.10.14"
  }
 },
 "nbformat": 4,
 "nbformat_minor": 5
}
